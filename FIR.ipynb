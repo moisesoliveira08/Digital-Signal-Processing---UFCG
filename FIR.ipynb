{
 "cells": [
  {
   "cell_type": "code",
   "execution_count": 2,
   "metadata": {},
   "outputs": [],
   "source": [
    "import numpy as np\n",
    "import math\n",
    "import matplotlib.pyplot as plt\n",
    "from scipy.signal import unit_impulse,fftconvolve\n",
    "from numpy.lib.scimath import sqrt as csqrt\n",
    "from scipy.special import iv\n",
    "pi = np.pi"
   ]
  },
  {
   "cell_type": "code",
   "execution_count": 7,
   "metadata": {},
   "outputs": [],
   "source": [
    "## iv = modified bessel function of the first kind\n",
    "def w_n(alpha, beta, n):\n",
    "    arg = (beta*(1 - ((n - alpha)/alpha)**2))**0.5\n",
    "    w = iv(0, arg)/iv(0, beta)\n",
    "    return w"
   ]
  },
  {
   "cell_type": "code",
   "execution_count": 9,
   "metadata": {},
   "outputs": [],
   "source": [
    "fs = 2000\n",
    "T = 1/fs\n",
    "Omega_s = 400\n",
    "Omega_p = 100\n",
    "ws = Omega_s*T\n",
    "wp = Omega_p*T\n",
    "deltaomega = ws - wp\n",
    "delta = 0.001 #- 60db\n",
    "A = -20*np.log10(delta)\n",
    "\n",
    "if (A < 21):\n",
    "    beta = 0\n",
    "elif (A >= 21 and A <= 50):\n",
    "    beta = 0.5842*(A - 21)**0.4 + 0.07886*(A - 21)\n",
    "else:\n",
    "    beta = 0.1102*(A - 8.7)\n",
    "\n",
    "M = (A - 8)/(2.285*deltaomega)\n"
   ]
  }
 ],
 "metadata": {
  "kernelspec": {
   "display_name": "base",
   "language": "python",
   "name": "python3"
  },
  "language_info": {
   "codemirror_mode": {
    "name": "ipython",
    "version": 3
   },
   "file_extension": ".py",
   "mimetype": "text/x-python",
   "name": "python",
   "nbconvert_exporter": "python",
   "pygments_lexer": "ipython3",
   "version": "3.9.12"
  },
  "orig_nbformat": 4,
  "vscode": {
   "interpreter": {
    "hash": "7613c13fd379a26cc5bdf3781146dc0fc07c604022ae81408481b5d31e7b3002"
   }
  }
 },
 "nbformat": 4,
 "nbformat_minor": 2
}
